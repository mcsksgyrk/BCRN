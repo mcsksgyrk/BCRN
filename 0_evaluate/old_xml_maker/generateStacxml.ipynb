{
 "cells": [
  {
   "cell_type": "code",
   "execution_count": 30,
   "metadata": {},
   "outputs": [],
   "source": [
    "import pandas as pd\n",
    "import numpy as np\n",
    "from filegenerators import *\n",
    "pd.options.display.float_format = '{:.2e}'.format"
   ]
  },
  {
   "cell_type": "code",
   "execution_count": 31,
   "metadata": {},
   "outputs": [],
   "source": [
    "\"\"\"\n",
    "If ic=0 => absolute sigma => dataPoint variablestd = small error\n",
    "If ic!=0 rel sigma => common properties => new property value = ln((val/1.5)/(val*1.5))/4\n",
    "\"\"\"\n",
    "def splitSigmas(df, inputs, observables, must_be_zero):\n",
    "    rel_sigmas = dict()\n",
    "    abs_sigmas = dict()\n",
    "\n",
    "    for index, row in df.iterrows():\n",
    "        if row.species in inputs:\n",
    "#        if row.species not in observables:\n",
    "            continue\n",
    "        if row.value in must_be_zero and row.species not in inputs:\n",
    "            rel_sigmas[row.species] = 5e-14\n",
    "        elif row.species not in inputs and row.species in observables:\n",
    "            rel_sigmas[row.species] = ((row.value*1.5-row.value/2)/8)*1e-12\n",
    "    return rel_sigmas\n",
    "\n",
    "def makeBounds(df):\n",
    "    bounds = dict()\n",
    "    for index, row in df.iterrows():\n",
    "        if row.value < 0.1:\n",
    "            lb = 1e-14\n",
    "            ub = 1e-13\n",
    "        else:\n",
    "            lb = (row.value/2)*1e-12\n",
    "            ub = (row.value*1.5)*1e-12\n",
    "        bounds[row.species] = [lb, ub]\n",
    "    return bounds "
   ]
  },
  {
   "cell_type": "code",
   "execution_count": 32,
   "metadata": {},
   "outputs": [
    {
     "data": {
      "text/plain": [
       "36"
      ]
     },
     "execution_count": 32,
     "metadata": {},
     "output_type": "execute_result"
    }
   ],
   "source": [
    "df_species_ics = pd.read_excel('../../reactions_ics_finalised.xlsx', sheet_name='Sheet7')\n",
    "df_species_ics['value'] = df_species_ics['value'].astype(float)\n",
    "\n",
    "observables = []\n",
    "for index, row in df_species_ics.iterrows():\n",
    "    if row.value >0:\n",
    "        observables.append(row.species)\n",
    "len(observables)"
   ]
  },
  {
   "cell_type": "code",
   "execution_count": 33,
   "metadata": {},
   "outputs": [],
   "source": [
    "#inoputokat ki kell szedni\n",
    "input_names =  ['nS', 'RAP', 'TG', 'dS', 'CCH', 'REF', 'Insulin', 'TG_SERCA', 'mTOR_RAP', 'casp', 'IP3R', 'Baxa', 'tBid']\n",
    "#observables = ['mTORa', 'ULK', 'AMPK', 'procasp', 'Ca2ic', 'Ca2er', 'SERCA', 'AKTa', 'TSC']\n",
    "#trash = ['BEC1_UVG','DAPK','DAPKa','AC_Ga','p53a','BCL2_p53','Baxa','p53_BCL2', 'MDM2', 'DRAM', 'UVG', 'BCL2', 'BCL2_PUMA']\n",
    "#trash = ['BEC1_UVG','AC_Ga','p53a','BCL2_p53','Baxa','p53_BCL2','DAPKs' ,'MDM2', 'DRAM']\n",
    "must_be_zero = ['casp', 'Baxa', 'tBid', 'p53a', 'PUMA']\n",
    "#errors_table = list(set(observables)-set(trash))\n",
    "inputs = dict()\n",
    "for i in input_names:\n",
    "    inputs[i] = 0.0\n",
    "inputs[\"REF\"] = 1.0\n",
    "inputs[\"Insulin\"] = 1e-10\n",
    "\n",
    "rel = splitSigmas(df_species_ics, input_names, observables, must_be_zero)\n",
    "species = df_species_ics.species.to_list()\n",
    "only_vars = list(set(species)-set(input_names))\n",
    "no_inp_species = []"
   ]
  },
  {
   "cell_type": "code",
   "execution_count": 34,
   "metadata": {},
   "outputs": [],
   "source": [
    "#dataPoints values\n",
    "columns = list(set(observables)-set(input_names))\n",
    "columns.sort()\n",
    "columns.insert(0,'time')\n",
    "time = np.linspace(0,24,25)\n",
    "\n",
    "dataPoints = pd.DataFrame(columns=columns)\n",
    "dataPoints['time'] = time*60\n",
    "\n",
    "#Fill in the \"theoretical\" stacionary conentrations\n",
    "for index, row in df_species_ics.iterrows():\n",
    "    if row.species in dataPoints.columns:\n",
    "        if row.value == 0:\n",
    "            dataPoints.loc[:,row.species] = 1e-13\n",
    "        else:\n",
    "            dataPoints.loc[:,row.species] = row.value*1e-12"
   ]
  },
  {
   "cell_type": "code",
   "execution_count": 35,
   "metadata": {},
   "outputs": [
    {
     "name": "stdout",
     "output_type": "stream",
     "text": [
      "[1.875e-10, 5.625e-10]\n"
     ]
    }
   ],
   "source": [
    "#df = pd.read_excel('../../reactions_ics_finalised.xlsx', sheet_name='icranges')\n",
    "df = pd.read_excel('../../reactions_ics_finalised.xlsx', sheet_name='Sheet7')\n",
    "bounds = makeBounds(df)\n",
    "print(bounds['mTORa'])"
   ]
  },
  {
   "cell_type": "code",
   "execution_count": 36,
   "metadata": {},
   "outputs": [
    {
     "name": "stdout",
     "output_type": "stream",
     "text": [
      "job finished\n"
     ]
    }
   ],
   "source": [
    "\n",
    "# Directory to save files\n",
    "output_directory = '20240831_stac_8adsigma'\n",
    "# Create the directory if it does not exist\n",
    "if not os.path.exists(output_directory):\n",
    "    os.makedirs(output_directory)\n",
    "for i in range(1, 21):\n",
    "    file_index = i\n",
    "    generate_file(file_index, output_directory, only_vars, inputs, bounds, dataPoints, rel)\n",
    "print(\"job finished\")"
   ]
  },
  {
   "cell_type": "code",
   "execution_count": 37,
   "metadata": {},
   "outputs": [],
   "source": [
    "#N_space = 24\n",
    "#str_list = []\n",
    "#for s in species:\n",
    "#    r1 = s+(N_space-len(s))*\" \"+\"H   1C   0    0    0G    200      6000     1000        1\"\n",
    "#    r2 = \" 1.65326226E+00 1.00263099E-02-3.31661238E-06 5.36483138E-10-3.14696758E-14    2\"\n",
    "#    r3 = \"-1.00095936E+04 9.90506283E+00 5.14911468E+00-1.36622009E-02 4.91453921E-05    3\"\n",
    "#    r4 = \"-4.84246767E-08 1.66603441E-11-1.02465983E+04-4.63848842E+00 0.00000000E+00    4\"\n",
    "#    print(r1)\n",
    "#    print(r2)\n",
    "#    print(r3)\n",
    "#    print(r4)"
   ]
  },
  {
   "cell_type": "code",
   "execution_count": null,
   "metadata": {},
   "outputs": [],
   "source": []
  }
 ],
 "metadata": {
  "kernelspec": {
   "display_name": "bence",
   "language": "python",
   "name": "python3"
  },
  "language_info": {
   "codemirror_mode": {
    "name": "ipython",
    "version": 3
   },
   "file_extension": ".py",
   "mimetype": "text/x-python",
   "name": "python",
   "nbconvert_exporter": "python",
   "pygments_lexer": "ipython3",
   "version": "3.12.4"
  }
 },
 "nbformat": 4,
 "nbformat_minor": 2
}
