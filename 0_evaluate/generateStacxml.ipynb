{
 "cells": [
  {
   "cell_type": "code",
   "execution_count": 1,
   "metadata": {},
   "outputs": [],
   "source": [
    "import pandas as pd\n",
    "import numpy as np\n",
    "import datetime\n",
    "from filegenerators import *\n",
    "pd.options.display.float_format = '{:.2e}'.format\n",
    "from pathlib import Path"
   ]
  },
  {
   "cell_type": "code",
   "execution_count": 2,
   "metadata": {},
   "outputs": [],
   "source": [
    "\"\"\"\n",
    "If ic=0 => absolute sigma => dataPoint variablestd = small error\n",
    "If ic!=0 rel sigma => common properties => new property value = ln((val/1.5)/(val*1.5))/4\n",
    "\"\"\"\n",
    "def splitSigmas(df, inputs, observables, must_be_zero):\n",
    "    rel_sigmas = dict()\n",
    "    abs_sigmas = dict()\n",
    "\n",
    "    for index, row in df.iterrows():\n",
    "        if row.species in inputs:\n",
    "#        if row.species not in observables:\n",
    "            continue\n",
    "        if row.value in must_be_zero and row.species not in inputs:\n",
    "            rel_sigmas[row.species] = 5e-14\n",
    "        elif row.species not in inputs and row.species in observables:\n",
    "            rel_sigmas[row.species] = ((row.value*1.5-row.value/2)/8)*1e-12\n",
    "    return rel_sigmas\n",
    "\n",
    "def makeBounds(df):\n",
    "    bounds = dict()\n",
    "    for index, row in df.iterrows():\n",
    "        if row.value < 0.1:\n",
    "            lb = 1e-14\n",
    "            ub = 1e-13\n",
    "        else:\n",
    "            lb = (row.value/2)*1e-12\n",
    "            ub = (row.value*1.5)*1e-12\n",
    "        bounds[row.species] = [lb, ub]\n",
    "    return bounds\n",
    "\n",
    "def makeBounds2(df):\n",
    "    bounds = dict()\n",
    "    for index, row in df.iterrows():\n",
    "        lb = (row.minconc)*1e-12\n",
    "        ub = (row.maxconc)*1e-12\n",
    "        bounds[row.species] = [lb, ub]\n",
    "    return bounds "
   ]
  },
  {
   "cell_type": "code",
   "execution_count": null,
   "metadata": {},
   "outputs": [],
   "source": [
    "def generate_opp_content(xml_folder: str, name: str, mech_file: str = \"7_Krisztian/mech/BCRN6.inp\", \n",
    "                            yaml_file: str = \"7_Krisztian/mech/BCRN6.yaml\", time_limit: int = 50, thread_limit: int = 32,\n",
    "                            settings_tag: str = \"systems_biology\", solver: str = \"cantera\", extension: str = \".xml\") -> str:\n",
    "        # Collect all matching XML files for this worksheet\n",
    "        folder = Path(xml_folder)\n",
    "        xml_files = sorted(f for f in folder.glob(f\"*{name}*{extension}\"))\n",
    "\n",
    "        # Create MECHMOD section\n",
    "        mechmod = f\"\"\"MECHMOD\n",
    "    USE_NAME         BCRN6\n",
    "    MECH_FILE        {mech_file}\n",
    "    COMPILE_cantera  {yaml_file}\n",
    "    END\n",
    "    \"\"\"\n",
    "\n",
    "        # Create MECHTEST section\n",
    "        mechtest = f\"\"\"MECHTEST\n",
    "        MECHANISM  BCRN6\n",
    "        TIME_LIMIT {time_limit}\n",
    "        THREAD_LIMIT {thread_limit}\n",
    "        SETTINGS_TAG {settings_tag}\n",
    "        FALLBACK_TO_DEFAULT_SETTINGS\n",
    "\n",
    "        SOLVER {solver}\n",
    "        SAVE_STATES      CSV\n",
    "    \"\"\"\n",
    "\n",
    "        # Add each XML file name\n",
    "        for xml in xml_files:\n",
    "            mechtest += f\"      NAME {xml.as_posix()}\\n\"\n",
    "\n",
    "        mechtest += \"END\\n\"\n",
    "\n",
    "        return mechmod + \"\\n\" + mechtest"
   ]
  },
  {
   "cell_type": "code",
   "execution_count": 20,
   "metadata": {},
   "outputs": [
    {
     "data": {
      "text/plain": [
       "35"
      ]
     },
     "execution_count": 20,
     "metadata": {},
     "output_type": "execute_result"
    }
   ],
   "source": [
    "df_species_ics = pd.read_excel('input_files/reactions_ics_finalised.xlsx', sheet_name='icranges')\n",
    "df_species_ics['value'] = df_species_ics['value'].astype(float)\n",
    "\n",
    "observables = []\n",
    "for index, row in df_species_ics.iterrows():\n",
    "    if row.value >0:\n",
    "        observables.append(row.species)\n",
    "len(observables)"
   ]
  },
  {
   "cell_type": "code",
   "execution_count": 21,
   "metadata": {},
   "outputs": [],
   "source": [
    "#inoputokat ki kell szedni\n",
    "input_names =  ['nS', 'RAP', 'TG', 'dS', 'CCH', 'REF', 'Insulin', 'TG_SERCA', 'mTOR_RAP', 'casp', 'IP3R', 'Baxa', 'tBid']\n",
    "#observables = ['mTORa', 'ULK', 'AMPK', 'procasp', 'Ca2ic', 'Ca2er', 'SERCA', 'AKTa', 'TSC']\n",
    "#trash = ['BEC1_UVG','DAPK','DAPKa','AC_Ga','p53a','BCL2_p53','Baxa','p53_BCL2', 'MDM2', 'DRAM', 'UVG', 'BCL2', 'BCL2_PUMA']\n",
    "#trash = ['BEC1_UVG','AC_Ga','p53a','BCL2_p53','Baxa','p53_BCL2','DAPKs' ,'MDM2', 'DRAM']\n",
    "must_be_zero = ['casp', 'Baxa', 'tBid', 'p53a', 'PUMA']\n",
    "#errors_table = list(set(observables)-set(trash))\n",
    "inputs = dict()\n",
    "for i in input_names:\n",
    "    inputs[i] = 0.0\n",
    "inputs[\"REF\"] = 1.0\n",
    "inputs[\"Insulin\"] = 1e-10\n",
    "\n",
    "rel = splitSigmas(df_species_ics, input_names, observables, must_be_zero)\n",
    "species = df_species_ics.species.to_list()\n",
    "only_vars = list(set(species)-set(input_names))\n",
    "no_inp_species = []"
   ]
  },
  {
   "cell_type": "code",
   "execution_count": 22,
   "metadata": {},
   "outputs": [],
   "source": [
    "#dataPoints values\n",
    "columns = list(set(observables)-set(input_names))\n",
    "columns.sort()\n",
    "columns.insert(0,'time')\n",
    "time = np.linspace(0,24,25)\n",
    "\n",
    "dataPoints = pd.DataFrame(columns=columns)\n",
    "dataPoints['time'] = time*60\n",
    "\n",
    "#Fill in the \"theoretical\" stacionary conentrations\n",
    "for index, row in df_species_ics.iterrows():\n",
    "    if row.species in dataPoints.columns:\n",
    "        if row.value == 0:\n",
    "            dataPoints.loc[:,row.species] = 1e-13\n",
    "        else:\n",
    "            dataPoints.loc[:,row.species] = row.value*1e-12"
   ]
  },
  {
   "cell_type": "code",
   "execution_count": 23,
   "metadata": {},
   "outputs": [
    {
     "name": "stdout",
     "output_type": "stream",
     "text": [
      "[1.875e-10, 5.625e-10]\n",
      "[1.875e-10, 7.5e-10]\n"
     ]
    }
   ],
   "source": [
    "#df = pd.read_excel('../../reactions_ics_finalised.xlsx', sheet_name='icranges')\n",
    "df = pd.read_excel('input_files/reactions_ics_finalised.xlsx', sheet_name=None)\n",
    "#df.keys()\n",
    "bounds = makeBounds(df[\"Sheet7\"])\n",
    "bounds2 = makeBounds2(df[\"icranges\"])\n",
    "print(bounds['mTORa'])\n",
    "print(bounds2['mTORa'])"
   ]
  },
  {
   "cell_type": "code",
   "execution_count": null,
   "metadata": {},
   "outputs": [
    {
     "name": "stdout",
     "output_type": "stream",
     "text": [
      "job finished\n"
     ]
    }
   ],
   "source": [
    "\n",
    "# Directory to save files\n",
    "output_directory = '/home/szupernikusz/TDK/Opt/7_Krisztian/xml/Stac_for_cov_corr'\n",
    "output_directory2 = '/home/szupernikusz/TDK/Opt/7_Krisztian/xml/Stac_for_cov_corr2'\n",
    "\n",
    "# Create the directory if it does not exist\n",
    "if not os.path.exists(output_directory):\n",
    "    os.makedirs(output_directory)\n",
    "if not os.path.exists(output_directory2):\n",
    "    os.makedirs(output_directory2)\n",
    "\n",
    "for i in range(1, 1001):\n",
    "    file_index = i\n",
    "    generate_file(file_index, output_directory, only_vars, inputs, bounds, dataPoints, rel)\n",
    "    generate_file(file_index, output_directory2, only_vars, inputs, bounds2, dataPoints, rel)\n",
    "print(\"job finished\")"
   ]
  },
  {
   "cell_type": "code",
   "execution_count": 26,
   "metadata": {},
   "outputs": [
    {
     "name": "stdout",
     "output_type": "stream",
     "text": [
      "\n",
      "[PosixPath('/home/szupernikusz/TDK/Opt/7_Krisztian/xml/Stac_for_cov_corr/stac_0001.xml'), PosixPath('/home/szupernikusz/TDK/Opt/7_Krisztian/xml/Stac_for_cov_corr/stac_0002.xml'), PosixPath('/home/szupernikusz/TDK/Opt/7_Krisztian/xml/Stac_for_cov_corr/stac_0003.xml'), PosixPath('/home/szupernikusz/TDK/Opt/7_Krisztian/xml/Stac_for_cov_corr/stac_0004.xml'), PosixPath('/home/szupernikusz/TDK/Opt/7_Krisztian/xml/Stac_for_cov_corr/stac_0005.xml'), PosixPath('/home/szupernikusz/TDK/Opt/7_Krisztian/xml/Stac_for_cov_corr/stac_0006.xml'), PosixPath('/home/szupernikusz/TDK/Opt/7_Krisztian/xml/Stac_for_cov_corr/stac_0007.xml'), PosixPath('/home/szupernikusz/TDK/Opt/7_Krisztian/xml/Stac_for_cov_corr/stac_0008.xml'), PosixPath('/home/szupernikusz/TDK/Opt/7_Krisztian/xml/Stac_for_cov_corr/stac_0009.xml'), PosixPath('/home/szupernikusz/TDK/Opt/7_Krisztian/xml/Stac_for_cov_corr/stac_0010.xml')]\n",
      "\n",
      "\n",
      "[PosixPath('/home/szupernikusz/TDK/Opt/7_Krisztian/xml/Stac_for_cov_corr2/stac_0001.xml'), PosixPath('/home/szupernikusz/TDK/Opt/7_Krisztian/xml/Stac_for_cov_corr2/stac_0002.xml'), PosixPath('/home/szupernikusz/TDK/Opt/7_Krisztian/xml/Stac_for_cov_corr2/stac_0003.xml'), PosixPath('/home/szupernikusz/TDK/Opt/7_Krisztian/xml/Stac_for_cov_corr2/stac_0004.xml'), PosixPath('/home/szupernikusz/TDK/Opt/7_Krisztian/xml/Stac_for_cov_corr2/stac_0005.xml'), PosixPath('/home/szupernikusz/TDK/Opt/7_Krisztian/xml/Stac_for_cov_corr2/stac_0006.xml'), PosixPath('/home/szupernikusz/TDK/Opt/7_Krisztian/xml/Stac_for_cov_corr2/stac_0007.xml'), PosixPath('/home/szupernikusz/TDK/Opt/7_Krisztian/xml/Stac_for_cov_corr2/stac_0008.xml'), PosixPath('/home/szupernikusz/TDK/Opt/7_Krisztian/xml/Stac_for_cov_corr2/stac_0009.xml'), PosixPath('/home/szupernikusz/TDK/Opt/7_Krisztian/xml/Stac_for_cov_corr2/stac_0010.xml')]\n",
      "\n"
     ]
    }
   ],
   "source": [
    "opp_content = generate_opp_content(output_directory, 'stac')\n",
    "opp_content2 = generate_opp_content(output_directory2, 'stac')\n",
    "date = datetime.datetime.now()\n",
    "opp_filename = f\"{date.year}{date.month}{date.day}_BCRN_CovCor_old_sampling.opp\" # Define output .opp file path\n",
    "opp_filename2 = f\"{date.year}{date.month}{date.day}_BCRN_CovCor_new_sampling.opp\" # Define output .opp file path\n",
    "opp_output_dir = \"../1_mechtest\"\n",
    "with open(os.path.join(opp_output_dir, opp_filename), \"w\") as f:\n",
    "            f.write(opp_content)\n",
    "with open(os.path.join(opp_output_dir, opp_filename2), \"w\") as f:\n",
    "            f.write(opp_content2)"
   ]
  },
  {
   "cell_type": "code",
   "execution_count": 12,
   "metadata": {},
   "outputs": [
    {
     "data": {
      "text/plain": [
       "'MECHMOD\\n    USE_NAME         BCRN6\\n    MECH_FILE        7_Krisztian/mech/BCRN6.inp\\n    COMPILE_cantera  7_Krisztian/mech/BCRN6.yaml\\n    END\\n    \\nMECHTEST\\n        MECHANISM  BCRN6\\n        TIME_LIMIT 50\\n        THREAD_LIMIT 32\\n        SETTINGS_TAG systems_biology\\n        FALLBACK_TO_DEFAULT_SETTINGS\\n\\n        SOLVER cantera\\n        SAVE_STATES      CSV\\n    END\\n'"
      ]
     },
     "execution_count": 12,
     "metadata": {},
     "output_type": "execute_result"
    }
   ],
   "source": [
    "opp_content2"
   ]
  }
 ],
 "metadata": {
  "kernelspec": {
   "display_name": "ct-env",
   "language": "python",
   "name": "python3"
  },
  "language_info": {
   "codemirror_mode": {
    "name": "ipython",
    "version": 3
   },
   "file_extension": ".py",
   "mimetype": "text/x-python",
   "name": "python",
   "nbconvert_exporter": "python",
   "pygments_lexer": "ipython3",
   "version": "3.10.10"
  }
 },
 "nbformat": 4,
 "nbformat_minor": 2
}
